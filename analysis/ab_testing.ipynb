{
 "cells": [
  {
   "cell_type": "markdown",
   "metadata": {},
   "source": [
    "# Placeholder Notebook\n",
    "Fill in your analysis here."
   ]
  },
  {
   "cell_type": "code",
   "execution_count": null,
   "metadata": {},
   "outputs": [],
   "source": [
    "import pandas as pd\n",
    "from scipy.stats import ttest_ind\n",
    "\n",
    "df = pd.read_csv(\"../data/user_feedback.csv\")\n",
    "\n",
    "# sanity checks\n",
    "assert {\"model_served\",\"was_helpful\"}.issubset(df.columns), \"CSV missing cols\"\n",
    "\n",
    "# helpfulness by model\n",
    "grouped = df.groupby(\"model_served\")[\"was_helpful\"].mean().rename(\"help_rate\")\n",
    "print(\"Helpfulness by model:\\n\", grouped)\n",
    "\n",
    "# split samples per model\n",
    "a = df[df[\"model_served\"]==\"sklearn\"][\"was_helpful\"]\n",
    "b = df[df[\"model_served\"]==\"torch\"][\"was_helpful\"]\n",
    "\n",
    "if len(a) >= 2 and len(b) >= 2:\n",
    "    t, p = ttest_ind(a, b, equal_var=False)\n",
    "    print(f\"\\nT-test (Welch): t={t:.3f}, p={p:.4f}\")\n",
    "else:\n",
    "    print(\"\\nNot enough samples per group yet—click more 👍/👎 in the UI.\")\n"
   ]
  }
 ],
 "metadata": {
  "kernelspec": {
   "display_name": "Python 3",
   "language": "python",
   "name": "python3"
  }
 },
 "nbformat": 4,
 "nbformat_minor": 4
}
